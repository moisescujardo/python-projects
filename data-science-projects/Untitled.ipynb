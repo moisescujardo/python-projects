{
 "cells": [
  {
   "cell_type": "code",
   "execution_count": 1,
   "id": "c0be99eb",
   "metadata": {},
   "outputs": [],
   "source": [
    "# import pandas and give it an alias pd\n",
    "import pandas as pd"
   ]
  },
  {
   "cell_type": "code",
   "execution_count": null,
   "id": "f53e38db",
   "metadata": {},
   "outputs": [],
   "source": [
    "psei-data.csv"
   ]
  }
 ],
 "metadata": {
  "kernelspec": {
   "display_name": "Python 3 (ipykernel)",
   "language": "python",
   "name": "python3"
  },
  "language_info": {
   "codemirror_mode": {
    "name": "ipython",
    "version": 3
   },
   "file_extension": ".py",
   "mimetype": "text/x-python",
   "name": "python",
   "nbconvert_exporter": "python",
   "pygments_lexer": "ipython3",
   "version": "3.10.6"
  }
 },
 "nbformat": 4,
 "nbformat_minor": 5
}
